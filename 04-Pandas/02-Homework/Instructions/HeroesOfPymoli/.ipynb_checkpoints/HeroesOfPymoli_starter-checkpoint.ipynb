{
 "cells": [
  {
   "cell_type": "markdown",
   "metadata": {},
   "source": [
    "### Note\n",
    "* Instructions have been included for each segment. You do not have to follow them exactly, but they are included to help you think through the steps."
   ]
  },
  {
   "cell_type": "code",
   "execution_count": 2,
   "metadata": {},
   "outputs": [
    {
     "data": {
      "text/html": [
       "<div>\n",
       "<style scoped>\n",
       "    .dataframe tbody tr th:only-of-type {\n",
       "        vertical-align: middle;\n",
       "    }\n",
       "\n",
       "    .dataframe tbody tr th {\n",
       "        vertical-align: top;\n",
       "    }\n",
       "\n",
       "    .dataframe thead th {\n",
       "        text-align: right;\n",
       "    }\n",
       "</style>\n",
       "<table border=\"1\" class=\"dataframe\">\n",
       "  <thead>\n",
       "    <tr style=\"text-align: right;\">\n",
       "      <th></th>\n",
       "      <th>Purchase ID</th>\n",
       "      <th>SN</th>\n",
       "      <th>Age</th>\n",
       "      <th>Gender</th>\n",
       "      <th>Item ID</th>\n",
       "      <th>Item Name</th>\n",
       "      <th>Price</th>\n",
       "    </tr>\n",
       "  </thead>\n",
       "  <tbody>\n",
       "    <tr>\n",
       "      <th>0</th>\n",
       "      <td>0</td>\n",
       "      <td>Lisim78</td>\n",
       "      <td>20</td>\n",
       "      <td>Male</td>\n",
       "      <td>108</td>\n",
       "      <td>Extraction, Quickblade Of Trembling Hands</td>\n",
       "      <td>3.53</td>\n",
       "    </tr>\n",
       "    <tr>\n",
       "      <th>1</th>\n",
       "      <td>1</td>\n",
       "      <td>Lisovynya38</td>\n",
       "      <td>40</td>\n",
       "      <td>Male</td>\n",
       "      <td>143</td>\n",
       "      <td>Frenzied Scimitar</td>\n",
       "      <td>1.56</td>\n",
       "    </tr>\n",
       "    <tr>\n",
       "      <th>2</th>\n",
       "      <td>2</td>\n",
       "      <td>Ithergue48</td>\n",
       "      <td>24</td>\n",
       "      <td>Male</td>\n",
       "      <td>92</td>\n",
       "      <td>Final Critic</td>\n",
       "      <td>4.88</td>\n",
       "    </tr>\n",
       "    <tr>\n",
       "      <th>3</th>\n",
       "      <td>3</td>\n",
       "      <td>Chamassasya86</td>\n",
       "      <td>24</td>\n",
       "      <td>Male</td>\n",
       "      <td>100</td>\n",
       "      <td>Blindscythe</td>\n",
       "      <td>3.27</td>\n",
       "    </tr>\n",
       "    <tr>\n",
       "      <th>4</th>\n",
       "      <td>4</td>\n",
       "      <td>Iskosia90</td>\n",
       "      <td>23</td>\n",
       "      <td>Male</td>\n",
       "      <td>131</td>\n",
       "      <td>Fury</td>\n",
       "      <td>1.44</td>\n",
       "    </tr>\n",
       "  </tbody>\n",
       "</table>\n",
       "</div>"
      ],
      "text/plain": [
       "   Purchase ID             SN  Age Gender  Item ID  \\\n",
       "0            0        Lisim78   20   Male      108   \n",
       "1            1    Lisovynya38   40   Male      143   \n",
       "2            2     Ithergue48   24   Male       92   \n",
       "3            3  Chamassasya86   24   Male      100   \n",
       "4            4      Iskosia90   23   Male      131   \n",
       "\n",
       "                                   Item Name  Price  \n",
       "0  Extraction, Quickblade Of Trembling Hands   3.53  \n",
       "1                          Frenzied Scimitar   1.56  \n",
       "2                               Final Critic   4.88  \n",
       "3                                Blindscythe   3.27  \n",
       "4                                       Fury   1.44  "
      ]
     },
     "execution_count": 2,
     "metadata": {},
     "output_type": "execute_result"
    }
   ],
   "source": [
    "# Dependencies and Setup\n",
    "import pandas as pd\n",
    "import numpy as np\n",
    "\n",
    "# File to Load (Remember to Change These)\n",
    "file_to_load = \"Resources/purchase_data.csv\"\n",
    "\n",
    "# Read Purchasing File and store into Pandas data frame\n",
    "purchase_data_df = pd.read_csv(file_to_load)\n",
    "purchase_data_df.head()"
   ]
  },
  {
   "cell_type": "markdown",
   "metadata": {},
   "source": [
    "## Player Count"
   ]
  },
  {
   "cell_type": "markdown",
   "metadata": {},
   "source": [
    "* Display the total number of players\n"
   ]
  },
  {
   "cell_type": "code",
   "execution_count": 3,
   "metadata": {},
   "outputs": [
    {
     "data": {
      "text/plain": [
       "576"
      ]
     },
     "execution_count": 3,
     "metadata": {},
     "output_type": "execute_result"
    }
   ],
   "source": [
    "players_df = purchase_data_df.groupby(\"SN\")[\"SN\"].nunique()\n",
    "players_df.count()"
   ]
  },
  {
   "cell_type": "markdown",
   "metadata": {},
   "source": [
    "## Purchasing Analysis (Total)"
   ]
  },
  {
   "cell_type": "markdown",
   "metadata": {},
   "source": [
    "* Run basic calculations to obtain number of unique items, average price, etc.\n",
    "\n",
    "\n",
    "* Create a summary data frame to hold the results\n",
    "\n",
    "\n",
    "* Optional: give the displayed data cleaner formatting\n",
    "\n",
    "\n",
    "* Display the summary data frame\n"
   ]
  },
  {
   "cell_type": "code",
   "execution_count": 4,
   "metadata": {
    "scrolled": true
   },
   "outputs": [
    {
     "data": {
      "text/html": [
       "<div>\n",
       "<style scoped>\n",
       "    .dataframe tbody tr th:only-of-type {\n",
       "        vertical-align: middle;\n",
       "    }\n",
       "\n",
       "    .dataframe tbody tr th {\n",
       "        vertical-align: top;\n",
       "    }\n",
       "\n",
       "    .dataframe thead th {\n",
       "        text-align: right;\n",
       "    }\n",
       "</style>\n",
       "<table border=\"1\" class=\"dataframe\">\n",
       "  <thead>\n",
       "    <tr style=\"text-align: right;\">\n",
       "      <th></th>\n",
       "      <th>Number of Unique Items</th>\n",
       "      <th>Average Purchase Price</th>\n",
       "      <th>Total Number of Purchases</th>\n",
       "      <th>Total Revenue</th>\n",
       "    </tr>\n",
       "  </thead>\n",
       "  <tbody>\n",
       "    <tr>\n",
       "      <th>0</th>\n",
       "      <td>179</td>\n",
       "      <td>3.050987</td>\n",
       "      <td>780</td>\n",
       "      <td>2379.77</td>\n",
       "    </tr>\n",
       "  </tbody>\n",
       "</table>\n",
       "</div>"
      ],
      "text/plain": [
       "   Number of Unique Items  Average Purchase Price  Total Number of Purchases  \\\n",
       "0                     179                3.050987                        780   \n",
       "\n",
       "   Total Revenue  \n",
       "0        2379.77  "
      ]
     },
     "execution_count": 4,
     "metadata": {},
     "output_type": "execute_result"
    }
   ],
   "source": [
    "#Number of unique items \n",
    "items_df = purchase_data_df.groupby(\"Item Name\")[\"Item Name\"].nunique()\n",
    "#Average purchase price\n",
    "average_price_df = purchase_data_df[\"Price\"].mean()\n",
    "#Total number of purchases\n",
    "total_purchases_df = len(purchase_data_df)\n",
    "#Total rev.\n",
    "total_revenue_df = purchase_data_df[\"Price\"].sum()\n",
    "total_revenue_df.round(2)\n",
    "#Create dataframe\n",
    "purchasing_analysis_df = pd.DataFrame({\"Number of Unique Items\":[items_df.count()],\n",
    "                                             \"Average Purchase Price\":[average_price_df],\n",
    "                                            \"Total Number of Purchases\":[total_purchases_df],\n",
    "                                             \"Total Revenue\":[total_revenue_df]})\n",
    "purchasing_analysis_df"
   ]
  },
  {
   "cell_type": "markdown",
   "metadata": {},
   "source": [
    "## Gender Demographics"
   ]
  },
  {
   "cell_type": "markdown",
   "metadata": {},
   "source": [
    "* Percentage and Count of Male Players\n",
    "\n",
    "\n",
    "* Percentage and Count of Female Players\n",
    "\n",
    "\n",
    "* Percentage and Count of Other / Non-Disclosed\n",
    "\n",
    "\n"
   ]
  },
  {
   "cell_type": "code",
   "execution_count": 5,
   "metadata": {},
   "outputs": [
    {
     "data": {
      "text/html": [
       "<div>\n",
       "<style scoped>\n",
       "    .dataframe tbody tr th:only-of-type {\n",
       "        vertical-align: middle;\n",
       "    }\n",
       "\n",
       "    .dataframe tbody tr th {\n",
       "        vertical-align: top;\n",
       "    }\n",
       "\n",
       "    .dataframe thead th {\n",
       "        text-align: right;\n",
       "    }\n",
       "</style>\n",
       "<table border=\"1\" class=\"dataframe\">\n",
       "  <thead>\n",
       "    <tr style=\"text-align: right;\">\n",
       "      <th></th>\n",
       "      <th>Gender Count</th>\n",
       "      <th>Gender Percentage</th>\n",
       "    </tr>\n",
       "    <tr>\n",
       "      <th>Gender</th>\n",
       "      <th></th>\n",
       "      <th></th>\n",
       "    </tr>\n",
       "  </thead>\n",
       "  <tbody>\n",
       "    <tr>\n",
       "      <th>Female</th>\n",
       "      <td>81</td>\n",
       "      <td>14.14</td>\n",
       "    </tr>\n",
       "    <tr>\n",
       "      <th>Male</th>\n",
       "      <td>484</td>\n",
       "      <td>84.47</td>\n",
       "    </tr>\n",
       "    <tr>\n",
       "      <th>Other / Non-Disclosed</th>\n",
       "      <td>11</td>\n",
       "      <td>1.92</td>\n",
       "    </tr>\n",
       "  </tbody>\n",
       "</table>\n",
       "</div>"
      ],
      "text/plain": [
       "                       Gender Count  Gender Percentage\n",
       "Gender                                                \n",
       "Female                           81              14.14\n",
       "Male                            484              84.47\n",
       "Other / Non-Disclosed            11               1.92"
      ]
     },
     "execution_count": 5,
     "metadata": {},
     "output_type": "execute_result"
    }
   ],
   "source": [
    "#Count players by gender\n",
    "gender_count = purchase_data_df.groupby(\"Gender\")[\"SN\"].nunique()\n",
    "#Calculate percentages\n",
    "gender_percentage = gender_count/573*100\n",
    "#Create dataframe\n",
    "gender_demographics_df = pd.DataFrame({\"Gender Count\": gender_count,\"Gender Percentage\":gender_percentage.round(2)})\n",
    "gender_demographics_df"
   ]
  },
  {
   "cell_type": "markdown",
   "metadata": {},
   "source": [
    "\n",
    "## Purchasing Analysis (Gender)"
   ]
  },
  {
   "cell_type": "markdown",
   "metadata": {},
   "source": [
    "* Run basic calculations to obtain purchase count, avg. purchase price, avg. purchase total per person etc. by gender\n",
    "\n",
    "\n",
    "\n",
    "\n",
    "* Create a summary data frame to hold the results\n",
    "\n",
    "\n",
    "* Optional: give the displayed data cleaner formatting\n",
    "\n",
    "\n",
    "* Display the summary data frame"
   ]
  },
  {
   "cell_type": "code",
   "execution_count": 6,
   "metadata": {},
   "outputs": [
    {
     "data": {
      "text/html": [
       "<div>\n",
       "<style scoped>\n",
       "    .dataframe tbody tr th:only-of-type {\n",
       "        vertical-align: middle;\n",
       "    }\n",
       "\n",
       "    .dataframe tbody tr th {\n",
       "        vertical-align: top;\n",
       "    }\n",
       "\n",
       "    .dataframe thead th {\n",
       "        text-align: right;\n",
       "    }\n",
       "</style>\n",
       "<table border=\"1\" class=\"dataframe\">\n",
       "  <thead>\n",
       "    <tr style=\"text-align: right;\">\n",
       "      <th></th>\n",
       "      <th>Purchase Count</th>\n",
       "      <th>Average Purchase Price</th>\n",
       "      <th>Total Purchase Value</th>\n",
       "      <th>Totals by Gender</th>\n",
       "    </tr>\n",
       "    <tr>\n",
       "      <th>Gender</th>\n",
       "      <th></th>\n",
       "      <th></th>\n",
       "      <th></th>\n",
       "      <th></th>\n",
       "    </tr>\n",
       "  </thead>\n",
       "  <tbody>\n",
       "    <tr>\n",
       "      <th>Female</th>\n",
       "      <td>113</td>\n",
       "      <td>3.20</td>\n",
       "      <td>361.94</td>\n",
       "      <td>4.47</td>\n",
       "    </tr>\n",
       "    <tr>\n",
       "      <th>Male</th>\n",
       "      <td>652</td>\n",
       "      <td>3.02</td>\n",
       "      <td>1967.64</td>\n",
       "      <td>4.07</td>\n",
       "    </tr>\n",
       "    <tr>\n",
       "      <th>Other / Non-Disclosed</th>\n",
       "      <td>15</td>\n",
       "      <td>3.35</td>\n",
       "      <td>50.19</td>\n",
       "      <td>4.56</td>\n",
       "    </tr>\n",
       "  </tbody>\n",
       "</table>\n",
       "</div>"
      ],
      "text/plain": [
       "                       Purchase Count  Average Purchase Price  \\\n",
       "Gender                                                          \n",
       "Female                            113                    3.20   \n",
       "Male                              652                    3.02   \n",
       "Other / Non-Disclosed              15                    3.35   \n",
       "\n",
       "                       Total Purchase Value  Totals by Gender  \n",
       "Gender                                                         \n",
       "Female                               361.94              4.47  \n",
       "Male                                1967.64              4.07  \n",
       "Other / Non-Disclosed                 50.19              4.56  "
      ]
     },
     "execution_count": 6,
     "metadata": {},
     "output_type": "execute_result"
    }
   ],
   "source": [
    "#Count number of purchases by each gender\n",
    "gender_purchases = purchase_data_df.groupby(\"Gender\")[\"Item Name\"]\n",
    "#Calculate average total for each gender\n",
    "gender_average = purchase_data_df.groupby(\"Gender\")[\"Price\"].mean()\n",
    "#Calculate total for each gender\n",
    "gender_total = purchase_data_df.groupby(\"Gender\")[\"Price\"].sum()\n",
    "#Calculate overall total average by gender\n",
    "avg_gender_total = gender_total/gender_count\n",
    "#Create dataframe\n",
    "gender_analysis_df = pd.DataFrame({\"Purchase Count\":gender_purchases.count(), \n",
    "                                   \"Average Purchase Price\":gender_average.round(2),\n",
    "                                   \"Total Purchase Value\":gender_total,\n",
    "                                   \"Totals by Gender\":avg_gender_total.round(2)})\n",
    "gender_analysis_df\n"
   ]
  },
  {
   "cell_type": "markdown",
   "metadata": {},
   "source": [
    "## Age Demographics"
   ]
  },
  {
   "cell_type": "markdown",
   "metadata": {},
   "source": [
    "* Establish bins for ages\n",
    "\n",
    "\n",
    "* Categorize the existing players using the age bins. Hint: use pd.cut()\n",
    "\n",
    "\n",
    "* Calculate the numbers and percentages by age group\n",
    "\n",
    "\n",
    "* Create a summary data frame to hold the results\n",
    "\n",
    "\n",
    "* Optional: round the percentage column to two decimal points\n",
    "\n",
    "\n",
    "* Display Age Demographics Table\n"
   ]
  },
  {
   "cell_type": "code",
   "execution_count": 13,
   "metadata": {},
   "outputs": [
    {
     "data": {
      "text/plain": [
       "0    15-19\n",
       "1    35-39\n",
       "2    20-24\n",
       "3    20-24\n",
       "4    20-24\n",
       "Name: Age Range, dtype: category\n",
       "Categories (8, object): ['<10' < '10-14' < '15-19' < '20-24' < '25-29' < '30-34' < '35-39' < '>=40']"
      ]
     },
     "execution_count": 13,
     "metadata": {},
     "output_type": "execute_result"
    }
   ],
   "source": [
    "#Create bins and labels to hold age groups \n",
    "bins = [0,10,15,20,25,30,35,40, 45]\n",
    "age_ranges = [\"<10\", \"10-14\",\"15-19\", \"20-24\", \"25-29\", \"30-34\", \"35-39\", \">=40\"]\n",
    "pd.cut(purchase_data_df[\"Age\"], bins, labels= age_ranges)\n",
    "purchase_data_df[\"Age Range\"] = pd.cut(purchase_data_df[\"Age\"], bins, labels= age_ranges)\n",
    "purchase_data_df[\"Age Range\"].head()"
   ]
  },
  {
   "cell_type": "code",
   "execution_count": 14,
   "metadata": {},
   "outputs": [
    {
     "data": {
      "text/plain": [
       "20-24    0.42\n",
       "15-19    0.26\n",
       "25-29    0.10\n",
       "10-14    0.07\n",
       "30-34    0.07\n",
       "Name: Age Range, dtype: float64"
      ]
     },
     "execution_count": 14,
     "metadata": {},
     "output_type": "execute_result"
    }
   ],
   "source": [
    "age_group_percentage_df = round(purchase_data_df[\"Age Range\"].value_counts()/780,2)\n",
    "age_group_percentage_df.head()"
   ]
  },
  {
   "cell_type": "code",
   "execution_count": 16,
   "metadata": {},
   "outputs": [],
   "source": [
    "age_group_count_df = purchase_data_df.groupby(\"Age Range\")[\"Item Name\"]\n"
   ]
  },
  {
   "cell_type": "code",
   "execution_count": 18,
   "metadata": {},
   "outputs": [
    {
     "data": {
      "text/plain": [
       "Age Range\n",
       "<10      3.405000\n",
       "10-14    2.900000\n",
       "15-19    3.107800\n",
       "20-24    3.020431\n",
       "25-29    2.875584\n",
       "Name: Price, dtype: float64"
      ]
     },
     "execution_count": 18,
     "metadata": {},
     "output_type": "execute_result"
    }
   ],
   "source": [
    "age_group_average_df = purchase_data_df.groupby(\"Age Range\")[\"Price\"].mean()\n",
    "age_group_average_df.head()"
   ]
  },
  {
   "cell_type": "code",
   "execution_count": 20,
   "metadata": {},
   "outputs": [
    {
     "data": {
      "text/plain": [
       "Age Range\n",
       "<10      108.96\n",
       "10-14    156.60\n",
       "15-19    621.56\n",
       "20-24    981.64\n",
       "25-29    221.42\n",
       "Name: Price, dtype: float64"
      ]
     },
     "execution_count": 20,
     "metadata": {},
     "output_type": "execute_result"
    }
   ],
   "source": [
    "age_group_total_df = purchase_data_df.groupby(\"Age Range\")[\"Price\"].sum()\n",
    "age_group_total_df.head()"
   ]
  },
  {
   "cell_type": "code",
   "execution_count": 21,
   "metadata": {},
   "outputs": [
    {
     "data": {
      "text/plain": [
       "Age Range\n",
       "<10      0.190157\n",
       "10-14    0.273298\n",
       "15-19    1.084747\n",
       "20-24    1.713159\n",
       "25-29    0.386422\n",
       "Name: Price, dtype: float64"
      ]
     },
     "execution_count": 21,
     "metadata": {},
     "output_type": "execute_result"
    }
   ],
   "source": [
    "normalized_age_total_df = age_group_total_df/573\n",
    "normalized_age_total_df.head()"
   ]
  },
  {
   "cell_type": "code",
   "execution_count": 25,
   "metadata": {},
   "outputs": [
    {
     "data": {
      "text/html": [
       "<div>\n",
       "<style scoped>\n",
       "    .dataframe tbody tr th:only-of-type {\n",
       "        vertical-align: middle;\n",
       "    }\n",
       "\n",
       "    .dataframe tbody tr th {\n",
       "        vertical-align: top;\n",
       "    }\n",
       "\n",
       "    .dataframe thead th {\n",
       "        text-align: right;\n",
       "    }\n",
       "</style>\n",
       "<table border=\"1\" class=\"dataframe\">\n",
       "  <thead>\n",
       "    <tr style=\"text-align: right;\">\n",
       "      <th></th>\n",
       "      <th>Purchase Count</th>\n",
       "      <th>Average Purchase Price</th>\n",
       "      <th>Total Purchase Value</th>\n",
       "      <th>Normalized Totals</th>\n",
       "    </tr>\n",
       "    <tr>\n",
       "      <th>Age Range</th>\n",
       "      <th></th>\n",
       "      <th></th>\n",
       "      <th></th>\n",
       "      <th></th>\n",
       "    </tr>\n",
       "  </thead>\n",
       "  <tbody>\n",
       "    <tr>\n",
       "      <th>&lt;10</th>\n",
       "      <td>(&lt;10, [Blood-Forged Skeletal Spine, Faith's Sc...</td>\n",
       "      <td>3.405</td>\n",
       "      <td>108.96</td>\n",
       "      <td>0.190157</td>\n",
       "    </tr>\n",
       "    <tr>\n",
       "      <th>10-14</th>\n",
       "      <td>(10-14, [Demise, Extraction, Quickblade Of Tre...</td>\n",
       "      <td>2.9</td>\n",
       "      <td>156.6</td>\n",
       "      <td>0.273298</td>\n",
       "    </tr>\n",
       "    <tr>\n",
       "      <th>15-19</th>\n",
       "      <td>(15-19, [Extraction, Quickblade Of Trembling H...</td>\n",
       "      <td>3.1078</td>\n",
       "      <td>621.56</td>\n",
       "      <td>1.08475</td>\n",
       "    </tr>\n",
       "    <tr>\n",
       "      <th>20-24</th>\n",
       "      <td>(20-24, [Final Critic, Blindscythe, Fury, Drea...</td>\n",
       "      <td>3.02043</td>\n",
       "      <td>981.64</td>\n",
       "      <td>1.71316</td>\n",
       "    </tr>\n",
       "    <tr>\n",
       "      <th>25-29</th>\n",
       "      <td>(25-29, [Blazefury, Protector of Delusions, Pe...</td>\n",
       "      <td>2.87558</td>\n",
       "      <td>221.42</td>\n",
       "      <td>0.386422</td>\n",
       "    </tr>\n",
       "    <tr>\n",
       "      <th>30-34</th>\n",
       "      <td>(30-34, [Ghastly Adamantite Protector, Bone Cr...</td>\n",
       "      <td>2.99442</td>\n",
       "      <td>155.71</td>\n",
       "      <td>0.271745</td>\n",
       "    </tr>\n",
       "    <tr>\n",
       "      <th>35-39</th>\n",
       "      <td>(35-39, [Frenzied Scimitar, Interrogator, Bloo...</td>\n",
       "      <td>3.40455</td>\n",
       "      <td>112.35</td>\n",
       "      <td>0.196073</td>\n",
       "    </tr>\n",
       "    <tr>\n",
       "      <th>&gt;=40</th>\n",
       "      <td>(&gt;=40, [Aetherius, Boon of the Blessed, Demise...</td>\n",
       "      <td>3.07571</td>\n",
       "      <td>21.53</td>\n",
       "      <td>0.0375742</td>\n",
       "    </tr>\n",
       "  </tbody>\n",
       "</table>\n",
       "</div>"
      ],
      "text/plain": [
       "                                              Purchase Count  \\\n",
       "Age Range                                                      \n",
       "<10        (<10, [Blood-Forged Skeletal Spine, Faith's Sc...   \n",
       "10-14      (10-14, [Demise, Extraction, Quickblade Of Tre...   \n",
       "15-19      (15-19, [Extraction, Quickblade Of Trembling H...   \n",
       "20-24      (20-24, [Final Critic, Blindscythe, Fury, Drea...   \n",
       "25-29      (25-29, [Blazefury, Protector of Delusions, Pe...   \n",
       "30-34      (30-34, [Ghastly Adamantite Protector, Bone Cr...   \n",
       "35-39      (35-39, [Frenzied Scimitar, Interrogator, Bloo...   \n",
       ">=40       (>=40, [Aetherius, Boon of the Blessed, Demise...   \n",
       "\n",
       "          Average Purchase Price Total Purchase Value Normalized Totals  \n",
       "Age Range                                                                \n",
       "<10                        3.405               108.96          0.190157  \n",
       "10-14                        2.9                156.6          0.273298  \n",
       "15-19                     3.1078               621.56           1.08475  \n",
       "20-24                    3.02043               981.64           1.71316  \n",
       "25-29                    2.87558               221.42          0.386422  \n",
       "30-34                    2.99442               155.71          0.271745  \n",
       "35-39                    3.40455               112.35          0.196073  \n",
       ">=40                     3.07571                21.53         0.0375742  "
      ]
     },
     "execution_count": 25,
     "metadata": {},
     "output_type": "execute_result"
    }
   ],
   "source": [
    "age_range_df = pd.DataFrame({\"Purchase Count\":age_group_count_df,\n",
    "                            \"Average Purchase Price\":age_group_average_df,\n",
    "                            \"Total Purchase Value\": age_group_total_df,\n",
    "                            \"Normalized Totals\": normalized_age_total_df\n",
    "},dtype=\"object\")\n",
    "age_range_df"
   ]
  },
  {
   "cell_type": "markdown",
   "metadata": {},
   "source": [
    "## Purchasing Analysis (Age)"
   ]
  },
  {
   "cell_type": "markdown",
   "metadata": {},
   "source": [
    "* Bin the purchase_data data frame by age\n",
    "\n",
    "\n",
    "* Run basic calculations to obtain purchase count, avg. purchase price, avg. purchase total per person etc. in the table below\n",
    "\n",
    "\n",
    "* Create a summary data frame to hold the results\n",
    "\n",
    "\n",
    "* Optional: give the displayed data cleaner formatting\n",
    "\n",
    "\n",
    "* Display the summary data frame"
   ]
  },
  {
   "cell_type": "code",
   "execution_count": 30,
   "metadata": {},
   "outputs": [
    {
     "data": {
      "text/html": [
       "<div>\n",
       "<style scoped>\n",
       "    .dataframe tbody tr th:only-of-type {\n",
       "        vertical-align: middle;\n",
       "    }\n",
       "\n",
       "    .dataframe tbody tr th {\n",
       "        vertical-align: top;\n",
       "    }\n",
       "\n",
       "    .dataframe thead th {\n",
       "        text-align: right;\n",
       "    }\n",
       "</style>\n",
       "<table border=\"1\" class=\"dataframe\">\n",
       "  <thead>\n",
       "    <tr style=\"text-align: right;\">\n",
       "      <th></th>\n",
       "      <th>Purchase Count</th>\n",
       "      <th>Average Purchase Price</th>\n",
       "      <th>Total Purchase Value</th>\n",
       "    </tr>\n",
       "    <tr>\n",
       "      <th>Age Range</th>\n",
       "      <th></th>\n",
       "      <th></th>\n",
       "      <th></th>\n",
       "    </tr>\n",
       "  </thead>\n",
       "  <tbody>\n",
       "    <tr>\n",
       "      <th>&lt;10</th>\n",
       "      <td>32</td>\n",
       "      <td>3.405000</td>\n",
       "      <td>108.96</td>\n",
       "    </tr>\n",
       "    <tr>\n",
       "      <th>10-14</th>\n",
       "      <td>54</td>\n",
       "      <td>2.900000</td>\n",
       "      <td>156.60</td>\n",
       "    </tr>\n",
       "    <tr>\n",
       "      <th>15-19</th>\n",
       "      <td>200</td>\n",
       "      <td>3.107800</td>\n",
       "      <td>621.56</td>\n",
       "    </tr>\n",
       "    <tr>\n",
       "      <th>20-24</th>\n",
       "      <td>325</td>\n",
       "      <td>3.020431</td>\n",
       "      <td>981.64</td>\n",
       "    </tr>\n",
       "    <tr>\n",
       "      <th>25-29</th>\n",
       "      <td>77</td>\n",
       "      <td>2.875584</td>\n",
       "      <td>221.42</td>\n",
       "    </tr>\n",
       "  </tbody>\n",
       "</table>\n",
       "</div>"
      ],
      "text/plain": [
       "           Purchase Count  Average Purchase Price  Total Purchase Value\n",
       "Age Range                                                              \n",
       "<10                    32                3.405000                108.96\n",
       "10-14                  54                2.900000                156.60\n",
       "15-19                 200                3.107800                621.56\n",
       "20-24                 325                3.020431                981.64\n",
       "25-29                  77                2.875584                221.42"
      ]
     },
     "execution_count": 30,
     "metadata": {},
     "output_type": "execute_result"
    }
   ],
   "source": [
    "players_purchase_count_df = purchase_data_df.groupby(\"Age Range\").count()[\"Price\"].rename(\"Purchase Count\")\n",
    "players_average_price_df = purchase_data_df.groupby(\"Age Range\").mean()[\"Price\"].rename(\"Average Purchase Price\")\n",
    "players_total_df = purchase_data_df.groupby(\"Age Range\").sum()[\"Price\"].rename(\"Total Purchase Value\")\n",
    "\n",
    "total_user_data_df = pd.DataFrame({\"Purchase Count\":players_purchase_count_df,\n",
    "                                   \"Average Purchase Price\": players_average_price_df,\n",
    "                                   \"Total Purchase Value\": players_total_df})\n",
    "total_user_data_df.head()"
   ]
  },
  {
   "cell_type": "markdown",
   "metadata": {},
   "source": [
    "## Top Spenders"
   ]
  },
  {
   "cell_type": "markdown",
   "metadata": {},
   "source": [
    "* Run basic calculations to obtain the results in the table below\n",
    "\n",
    "\n",
    "* Create a summary data frame to hold the results\n",
    "\n",
    "\n",
    "* Sort the total purchase value column in descending order\n",
    "\n",
    "\n",
    "* Optional: give the displayed data cleaner formatting\n",
    "\n",
    "\n",
    "* Display a preview of the summary data frame\n",
    "\n"
   ]
  },
  {
   "cell_type": "code",
   "execution_count": 47,
   "metadata": {},
   "outputs": [],
   "source": [
    "players_purchase_count_df = purchase_data_df.groupby(\"SN\").count()"
   ]
  },
  {
   "cell_type": "code",
   "execution_count": 48,
   "metadata": {},
   "outputs": [
    {
     "data": {
      "text/html": [
       "<style  type=\"text/css\" >\n",
       "</style><table id=\"T_8d9d405e_5ea9_11eb_8a1d_b29c4ac25841\" ><thead>    <tr>        <th class=\"blank level0\" ></th>        <th class=\"col_heading level0 col0\" >Purchase Count</th>        <th class=\"col_heading level0 col1\" >Average Purchase Price</th>        <th class=\"col_heading level0 col2\" >Total Purchase Value</th>    </tr>    <tr>        <th class=\"index_name level0\" >SN</th>        <th class=\"blank\" ></th>        <th class=\"blank\" ></th>        <th class=\"blank\" ></th>    </tr></thead><tbody>\n",
       "                <tr>\n",
       "                        <th id=\"T_8d9d405e_5ea9_11eb_8a1d_b29c4ac25841level0_row0\" class=\"row_heading level0 row0\" >Lisosia93</th>\n",
       "                        <td id=\"T_8d9d405e_5ea9_11eb_8a1d_b29c4ac25841row0_col0\" class=\"data row0 col0\" >5</td>\n",
       "                        <td id=\"T_8d9d405e_5ea9_11eb_8a1d_b29c4ac25841row0_col1\" class=\"data row0 col1\" >$3.79</td>\n",
       "                        <td id=\"T_8d9d405e_5ea9_11eb_8a1d_b29c4ac25841row0_col2\" class=\"data row0 col2\" >$18.96</td>\n",
       "            </tr>\n",
       "            <tr>\n",
       "                        <th id=\"T_8d9d405e_5ea9_11eb_8a1d_b29c4ac25841level0_row1\" class=\"row_heading level0 row1\" >Idastidru52</th>\n",
       "                        <td id=\"T_8d9d405e_5ea9_11eb_8a1d_b29c4ac25841row1_col0\" class=\"data row1 col0\" >4</td>\n",
       "                        <td id=\"T_8d9d405e_5ea9_11eb_8a1d_b29c4ac25841row1_col1\" class=\"data row1 col1\" >$3.86</td>\n",
       "                        <td id=\"T_8d9d405e_5ea9_11eb_8a1d_b29c4ac25841row1_col2\" class=\"data row1 col2\" >$15.45</td>\n",
       "            </tr>\n",
       "            <tr>\n",
       "                        <th id=\"T_8d9d405e_5ea9_11eb_8a1d_b29c4ac25841level0_row2\" class=\"row_heading level0 row2\" >Chamjask73</th>\n",
       "                        <td id=\"T_8d9d405e_5ea9_11eb_8a1d_b29c4ac25841row2_col0\" class=\"data row2 col0\" >3</td>\n",
       "                        <td id=\"T_8d9d405e_5ea9_11eb_8a1d_b29c4ac25841row2_col1\" class=\"data row2 col1\" >$4.61</td>\n",
       "                        <td id=\"T_8d9d405e_5ea9_11eb_8a1d_b29c4ac25841row2_col2\" class=\"data row2 col2\" >$13.83</td>\n",
       "            </tr>\n",
       "            <tr>\n",
       "                        <th id=\"T_8d9d405e_5ea9_11eb_8a1d_b29c4ac25841level0_row3\" class=\"row_heading level0 row3\" >Iral74</th>\n",
       "                        <td id=\"T_8d9d405e_5ea9_11eb_8a1d_b29c4ac25841row3_col0\" class=\"data row3 col0\" >4</td>\n",
       "                        <td id=\"T_8d9d405e_5ea9_11eb_8a1d_b29c4ac25841row3_col1\" class=\"data row3 col1\" >$3.40</td>\n",
       "                        <td id=\"T_8d9d405e_5ea9_11eb_8a1d_b29c4ac25841row3_col2\" class=\"data row3 col2\" >$13.62</td>\n",
       "            </tr>\n",
       "            <tr>\n",
       "                        <th id=\"T_8d9d405e_5ea9_11eb_8a1d_b29c4ac25841level0_row4\" class=\"row_heading level0 row4\" >Iskadarya95</th>\n",
       "                        <td id=\"T_8d9d405e_5ea9_11eb_8a1d_b29c4ac25841row4_col0\" class=\"data row4 col0\" >3</td>\n",
       "                        <td id=\"T_8d9d405e_5ea9_11eb_8a1d_b29c4ac25841row4_col1\" class=\"data row4 col1\" >$4.37</td>\n",
       "                        <td id=\"T_8d9d405e_5ea9_11eb_8a1d_b29c4ac25841row4_col2\" class=\"data row4 col2\" >$13.10</td>\n",
       "            </tr>\n",
       "    </tbody></table>"
      ],
      "text/plain": [
       "<pandas.io.formats.style.Styler at 0x7f899d769ee0>"
      ]
     },
     "execution_count": 48,
     "metadata": {},
     "output_type": "execute_result"
    }
   ],
   "source": [
    "# Group purchase data by screen names\n",
    "spender_stats = purchase_data_df.groupby(\"SN\")\n",
    "\n",
    "# Count the total purchases by name\n",
    "purchase_count_spender = spender_stats[\"Purchase ID\"].count()\n",
    "\n",
    "# Calculate the average purchase by name \n",
    "avg_purchase_price_spender = spender_stats[\"Price\"].mean()\n",
    "\n",
    "# Calculate purchase total \n",
    "purchase_total_spender = spender_stats[\"Price\"].sum()\n",
    "\n",
    "# Create data frame with obtained values\n",
    "top_spenders = pd.DataFrame({\"Purchase Count\": purchase_count_spender,\n",
    "                             \"Average Purchase Price\": avg_purchase_price_spender,\n",
    "                             \"Total Purchase Value\":purchase_total_spender})\n",
    "\n",
    "# Sort in descending order to obtain top 5 spender names \n",
    "formatted_spenders = top_spenders.sort_values([\"Total Purchase Value\"], ascending=False).head()\n",
    "\n",
    "# Format with currency style\n",
    "formatted_spenders.style.format({\"Average Purchase Total\":\"${:,.2f}\",\n",
    "                                 \"Average Purchase Price\":\"${:,.2f}\", \n",
    "                                 \"Total Purchase Value\":\"${:,.2f}\"})"
   ]
  },
  {
   "cell_type": "markdown",
   "metadata": {},
   "source": [
    "## Most Popular Items"
   ]
  },
  {
   "cell_type": "markdown",
   "metadata": {},
   "source": [
    "* Retrieve the Item ID, Item Name, and Item Price columns\n",
    "\n",
    "\n",
    "* Group by Item ID and Item Name. Perform calculations to obtain purchase count, average item price, and total purchase value\n",
    "\n",
    "\n",
    "* Create a summary data frame to hold the results\n",
    "\n",
    "\n",
    "* Sort the purchase count column in descending order\n",
    "\n",
    "\n",
    "* Optional: give the displayed data cleaner formatting\n",
    "\n",
    "\n",
    "* Display a preview of the summary data frame\n",
    "\n"
   ]
  },
  {
   "cell_type": "code",
   "execution_count": 35,
   "metadata": {},
   "outputs": [
    {
     "data": {
      "text/html": [
       "<div>\n",
       "<style scoped>\n",
       "    .dataframe tbody tr th:only-of-type {\n",
       "        vertical-align: middle;\n",
       "    }\n",
       "\n",
       "    .dataframe tbody tr th {\n",
       "        vertical-align: top;\n",
       "    }\n",
       "\n",
       "    .dataframe thead th {\n",
       "        text-align: right;\n",
       "    }\n",
       "</style>\n",
       "<table border=\"1\" class=\"dataframe\">\n",
       "  <thead>\n",
       "    <tr style=\"text-align: right;\">\n",
       "      <th></th>\n",
       "      <th></th>\n",
       "      <th>Purchase Count</th>\n",
       "      <th>Item Price</th>\n",
       "      <th>Total Purchase Value</th>\n",
       "    </tr>\n",
       "    <tr>\n",
       "      <th>Item ID</th>\n",
       "      <th>Item Name</th>\n",
       "      <th></th>\n",
       "      <th></th>\n",
       "      <th></th>\n",
       "    </tr>\n",
       "  </thead>\n",
       "  <tbody>\n",
       "    <tr>\n",
       "      <th>92</th>\n",
       "      <th>Final Critic</th>\n",
       "      <td>13</td>\n",
       "      <td>4.614615</td>\n",
       "      <td>59.99</td>\n",
       "    </tr>\n",
       "    <tr>\n",
       "      <th>178</th>\n",
       "      <th>Oathbreaker, Last Hope of the Breaking Storm</th>\n",
       "      <td>12</td>\n",
       "      <td>4.230000</td>\n",
       "      <td>50.76</td>\n",
       "    </tr>\n",
       "    <tr>\n",
       "      <th>145</th>\n",
       "      <th>Fiery Glass Crusader</th>\n",
       "      <td>9</td>\n",
       "      <td>4.580000</td>\n",
       "      <td>41.22</td>\n",
       "    </tr>\n",
       "    <tr>\n",
       "      <th>132</th>\n",
       "      <th>Persuasion</th>\n",
       "      <td>9</td>\n",
       "      <td>3.221111</td>\n",
       "      <td>28.99</td>\n",
       "    </tr>\n",
       "    <tr>\n",
       "      <th>108</th>\n",
       "      <th>Extraction, Quickblade Of Trembling Hands</th>\n",
       "      <td>9</td>\n",
       "      <td>3.530000</td>\n",
       "      <td>31.77</td>\n",
       "    </tr>\n",
       "  </tbody>\n",
       "</table>\n",
       "</div>"
      ],
      "text/plain": [
       "                                                      Purchase Count  \\\n",
       "Item ID Item Name                                                      \n",
       "92      Final Critic                                              13   \n",
       "178     Oathbreaker, Last Hope of the Breaking Storm              12   \n",
       "145     Fiery Glass Crusader                                       9   \n",
       "132     Persuasion                                                 9   \n",
       "108     Extraction, Quickblade Of Trembling Hands                  9   \n",
       "\n",
       "                                                      Item Price  \\\n",
       "Item ID Item Name                                                  \n",
       "92      Final Critic                                    4.614615   \n",
       "178     Oathbreaker, Last Hope of the Breaking Storm    4.230000   \n",
       "145     Fiery Glass Crusader                            4.580000   \n",
       "132     Persuasion                                      3.221111   \n",
       "108     Extraction, Quickblade Of Trembling Hands       3.530000   \n",
       "\n",
       "                                                      Total Purchase Value  \n",
       "Item ID Item Name                                                           \n",
       "92      Final Critic                                                 59.99  \n",
       "178     Oathbreaker, Last Hope of the Breaking Storm                 50.76  \n",
       "145     Fiery Glass Crusader                                         41.22  \n",
       "132     Persuasion                                                   28.99  \n",
       "108     Extraction, Quickblade Of Trembling Hands                    31.77  "
      ]
     },
     "execution_count": 35,
     "metadata": {},
     "output_type": "execute_result"
    }
   ],
   "source": [
    "most_popular_items_df = items_purchased_df.sort_values(\"Purchase Count\", ascending=False)\n",
    "most_popular_items_df.head()\n"
   ]
  },
  {
   "cell_type": "markdown",
   "metadata": {},
   "source": [
    "## Most Profitable Items"
   ]
  },
  {
   "cell_type": "markdown",
   "metadata": {},
   "source": [
    "* Sort the above table by total purchase value in descending order\n",
    "\n",
    "\n",
    "* Optional: give the displayed data cleaner formatting\n",
    "\n",
    "\n",
    "* Display a preview of the data frame\n",
    "\n"
   ]
  },
  {
   "cell_type": "code",
   "execution_count": 36,
   "metadata": {
    "scrolled": true
   },
   "outputs": [
    {
     "data": {
      "text/html": [
       "<div>\n",
       "<style scoped>\n",
       "    .dataframe tbody tr th:only-of-type {\n",
       "        vertical-align: middle;\n",
       "    }\n",
       "\n",
       "    .dataframe tbody tr th {\n",
       "        vertical-align: top;\n",
       "    }\n",
       "\n",
       "    .dataframe thead th {\n",
       "        text-align: right;\n",
       "    }\n",
       "</style>\n",
       "<table border=\"1\" class=\"dataframe\">\n",
       "  <thead>\n",
       "    <tr style=\"text-align: right;\">\n",
       "      <th></th>\n",
       "      <th></th>\n",
       "      <th>Purchase Count</th>\n",
       "      <th>Item Price</th>\n",
       "      <th>Total Purchase Value</th>\n",
       "    </tr>\n",
       "    <tr>\n",
       "      <th>Item ID</th>\n",
       "      <th>Item Name</th>\n",
       "      <th></th>\n",
       "      <th></th>\n",
       "      <th></th>\n",
       "    </tr>\n",
       "  </thead>\n",
       "  <tbody>\n",
       "    <tr>\n",
       "      <th>92</th>\n",
       "      <th>Final Critic</th>\n",
       "      <td>13</td>\n",
       "      <td>4.614615</td>\n",
       "      <td>59.99</td>\n",
       "    </tr>\n",
       "    <tr>\n",
       "      <th>178</th>\n",
       "      <th>Oathbreaker, Last Hope of the Breaking Storm</th>\n",
       "      <td>12</td>\n",
       "      <td>4.230000</td>\n",
       "      <td>50.76</td>\n",
       "    </tr>\n",
       "    <tr>\n",
       "      <th>82</th>\n",
       "      <th>Nirvana</th>\n",
       "      <td>9</td>\n",
       "      <td>4.900000</td>\n",
       "      <td>44.10</td>\n",
       "    </tr>\n",
       "    <tr>\n",
       "      <th>145</th>\n",
       "      <th>Fiery Glass Crusader</th>\n",
       "      <td>9</td>\n",
       "      <td>4.580000</td>\n",
       "      <td>41.22</td>\n",
       "    </tr>\n",
       "    <tr>\n",
       "      <th>103</th>\n",
       "      <th>Singed Scalpel</th>\n",
       "      <td>8</td>\n",
       "      <td>4.350000</td>\n",
       "      <td>34.80</td>\n",
       "    </tr>\n",
       "  </tbody>\n",
       "</table>\n",
       "</div>"
      ],
      "text/plain": [
       "                                                      Purchase Count  \\\n",
       "Item ID Item Name                                                      \n",
       "92      Final Critic                                              13   \n",
       "178     Oathbreaker, Last Hope of the Breaking Storm              12   \n",
       "82      Nirvana                                                    9   \n",
       "145     Fiery Glass Crusader                                       9   \n",
       "103     Singed Scalpel                                             8   \n",
       "\n",
       "                                                      Item Price  \\\n",
       "Item ID Item Name                                                  \n",
       "92      Final Critic                                    4.614615   \n",
       "178     Oathbreaker, Last Hope of the Breaking Storm    4.230000   \n",
       "82      Nirvana                                         4.900000   \n",
       "145     Fiery Glass Crusader                            4.580000   \n",
       "103     Singed Scalpel                                  4.350000   \n",
       "\n",
       "                                                      Total Purchase Value  \n",
       "Item ID Item Name                                                           \n",
       "92      Final Critic                                                 59.99  \n",
       "178     Oathbreaker, Last Hope of the Breaking Storm                 50.76  \n",
       "82      Nirvana                                                      44.10  \n",
       "145     Fiery Glass Crusader                                         41.22  \n",
       "103     Singed Scalpel                                               34.80  "
      ]
     },
     "execution_count": 36,
     "metadata": {},
     "output_type": "execute_result"
    }
   ],
   "source": [
    "most_profitable_items_df = items_purchased_df.sort_values(\"Total Purchase Value\", ascending=False)\n",
    "most_profitable_items_df.head()\n"
   ]
  }
 ],
 "metadata": {
  "anaconda-cloud": {},
  "kernel_info": {
   "name": "python3"
  },
  "kernelspec": {
   "display_name": "Python 3",
   "language": "python",
   "name": "python3"
  },
  "language_info": {
   "codemirror_mode": {
    "name": "ipython",
    "version": 3
   },
   "file_extension": ".py",
   "mimetype": "text/x-python",
   "name": "python",
   "nbconvert_exporter": "python",
   "pygments_lexer": "ipython3",
   "version": "3.8.5"
  },
  "latex_envs": {
   "LaTeX_envs_menu_present": true,
   "autoclose": false,
   "autocomplete": true,
   "bibliofile": "biblio.bib",
   "cite_by": "apalike",
   "current_citInitial": 1,
   "eqLabelWithNumbers": true,
   "eqNumInitial": 1,
   "hotkeys": {
    "equation": "Ctrl-E",
    "itemize": "Ctrl-I"
   },
   "labels_anchors": false,
   "latex_user_defs": false,
   "report_style_numbering": false,
   "user_envs_cfg": false
  },
  "nteract": {
   "version": "0.2.0"
  }
 },
 "nbformat": 4,
 "nbformat_minor": 2
}
